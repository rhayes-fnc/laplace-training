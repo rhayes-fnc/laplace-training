{
 "cells": [
  {
   "cell_type": "markdown",
   "metadata": {},
   "source": [
    "# My Jupyter Notebook on Skills Network Labs"
   ]
  },
  {
   "cell_type": "markdown",
   "metadata": {},
   "source": [
    "**Robert Hayes**  \n",
    "Engineer"
   ]
  },
  {
   "cell_type": "markdown",
   "metadata": {},
   "source": [
    "*I am interested in Data Science because it is a valuable tool for an engineer in a data driven world*"
   ]
  },
  {
   "cell_type": "markdown",
   "metadata": {},
   "source": [
    "### My code below draws a clock, based upon the current time. It utilises the datetime module to gather the current time, numpy to perform trigonometry, and the Pillow library to draw the clock face using the time and calculated angles."
   ]
  },
  {
   "cell_type": "code",
   "execution_count": 4,
   "metadata": {},
   "outputs": [],
   "source": [
    "import datetime as dt\n",
    "import time as t\n",
    "todayTime = dt.datetime.timetuple(dt.datetime.now())\n",
    "from PIL import Image, ImageDraw, ImageFont\n",
    "import numpy as np\n",
    "clock = Image.new(\"RGB\", (200,200), (255,255,255))\n",
    "clock_draw = ImageDraw.Draw(clock)\n",
    "clock_draw.ellipse([(0,0),(199,199)],fill=(10, 186, 181), outline=(0,0,0), width=1)\n",
    "fnt = ImageFont.load_default()\n",
    "indc = 1\n",
    "r = (clock.size[0]/2)-20\n",
    "r_sec = (clock.size[0]/2)-25\n",
    "r_min = (clock.size[0]/2)-25\n",
    "r_hr = (clock.size[0]/2)-45\n",
    "while indc < 13:\n",
    "    y = 95.5+(-(r) * np.cos(indc*np.pi/6))\n",
    "    x = 95.5+((r) * np.sin(indc*np.pi/6))\n",
    "    clock_draw.text((x,y), str(indc), font=fnt, fill=(0,0,0))\n",
    "    indc += 1\n",
    "    \n",
    "Hr = int(t.strftime(\"%I\",todayTime))\n",
    "Min = int(t.strftime(\"%M\",todayTime))\n",
    "Sec = int(t.strftime(\"%S\",todayTime))\n",
    "\n",
    "y_sec = 95.5+(-(r_sec) * np.cos(Sec*np.pi/30))\n",
    "x_sec = 95.5+((r_sec) * np.sin(Sec*np.pi/30))\n",
    "clock_draw.line([(clock.size[0]/2),(clock.size[1]/2),(x_sec,y_sec)], fill=(255,0,0), width=2)\n",
    "\n",
    "y_min = 95.5+(-(r_min) * np.cos(Min*np.pi/30))\n",
    "x_min = 95.5+((r_min) * np.sin(Min*np.pi/30))\n",
    "clock_draw.line([(clock.size[0]/2),(clock.size[1]/2),(x_min,y_min)], fill=(255,255,255), width=5)\n",
    "\n",
    "\n",
    "y_hr = 95.5+(-(r_hr) * np.cos((Hr*np.pi/6)+(Min*np.pi/360)))\n",
    "x_hr = 95.5+((r_hr) * np.sin((Hr*np.pi/6)+(Min*np.pi/360)))\n",
    "clock_draw.line([(clock.size[0]/2),(clock.size[1]/2),(x_hr,y_hr)], fill=(255,255,255), width=5)\n",
    "    \n",
    "clock.show()"
   ]
  },
  {
   "cell_type": "markdown",
   "metadata": {},
   "source": [
    "---\n",
    "\n",
    "Packages used to create this Notebook:\n",
    "1. [numpy](http://numpy.org)\n",
    "2. [lib/datetime.py](https://docs.python.org/3/library/datetime.html)\n",
    "3. [Pillow](https://python-pillow.org/)\n",
    "\n",
    "---\n",
    "\n",
    "> \"I love deadlines. I like the whooshing sound they make as they fly by.”"
   ]
  },
  {
   "cell_type": "code",
   "execution_count": null,
   "metadata": {},
   "outputs": [],
   "source": []
  },
  {
   "cell_type": "code",
   "execution_count": null,
   "metadata": {},
   "outputs": [],
   "source": []
  }
 ],
 "metadata": {
  "kernelspec": {
   "display_name": "Python 3 (ipykernel)",
   "language": "python",
   "name": "python3"
  },
  "language_info": {
   "codemirror_mode": {
    "name": "ipython",
    "version": 3
   },
   "file_extension": ".py",
   "mimetype": "text/x-python",
   "name": "python",
   "nbconvert_exporter": "python",
   "pygments_lexer": "ipython3",
   "version": "3.7.5"
  }
 },
 "nbformat": 4,
 "nbformat_minor": 4
}
