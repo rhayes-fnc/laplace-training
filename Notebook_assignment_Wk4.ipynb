{
  "metadata": {
    "language_info": {
      "codemirror_mode": {
        "name": "python",
        "version": 3
      },
      "file_extension": ".py",
      "mimetype": "text/x-python",
      "name": "python",
      "nbconvert_exporter": "python",
      "pygments_lexer": "ipython3",
      "version": "3.8"
    },
    "kernelspec": {
      "name": "python",
      "display_name": "Pyolite",
      "language": "python"
    }
  },
  "nbformat_minor": 4,
  "nbformat": 4,
  "cells": [
    {
      "cell_type": "markdown",
      "source": "# My Jupyter Notebook on Skills Network Labs",
      "metadata": {}
    },
    {
      "cell_type": "markdown",
      "source": "**Robert Hayes**  \nEngineer",
      "metadata": {}
    },
    {
      "cell_type": "markdown",
      "source": "*I am interested in Data Science because it is a valauble tool for an engineer in a data driven world*",
      "metadata": {}
    },
    {
      "cell_type": "markdown",
      "source": "### My code below draws a clock, based upon the current time. It utilises the datetime module to gather the current time, numpy to perform trigonometry, and the Pillow library to draw the clock face using the time and calculated angles.",
      "metadata": {}
    },
    {
      "cell_type": "code",
      "source": "import datetime as dt\nimport time as t\ntodayTime = dt.datetime.timetuple(dt.datetime.now())\nfrom PIL import Image, ImageDraw, ImageFont\nimport numpy as np\nclock = Image.new(\"RGB\", (200,200), (255,255,255))\nclock_draw = ImageDraw.Draw(clock)\nclock_draw.ellipse([(0,0),(199,199)],fill=(10, 186, 181), outline=(0,0,0), width=1)\nfnt = ImageFont.load_default()\nindc = 1\nr = (clock.size[0]/2)-20\nr_sec = (clock.size[0]/2)-25\nr_min = (clock.size[0]/2)-25\nr_hr = (clock.size[0]/2)-45\nwhile indc < 13:\n    y = 95.5+(-(r) * np.cos(indc*np.pi/6))\n    x = 95.5+((r) * np.sin(indc*np.pi/6))\n    clock_draw.text((x,y), str(indc), font=fnt, fill=(0,0,0))\n    indc += 1\n    \nHr = int(t.strftime(\"%I\",todayTime))\nMin = int(t.strftime(\"%M\",todayTime))\nSec = int(t.strftime(\"%S\",todayTime))\n\ny_sec = 95.5+(-(r_sec) * np.cos(Sec*np.pi/30))\nx_sec = 95.5+((r_sec) * np.sin(Sec*np.pi/30))\nclock_draw.line([(clock.size[0]/2),(clock.size[1]/2),(x_sec,y_sec)], fill=(255,0,0), width=2)\n\ny_min = 95.5+(-(r_min) * np.cos(Min*np.pi/30))\nx_min = 95.5+((r_min) * np.sin(Min*np.pi/30))\nclock_draw.line([(clock.size[0]/2),(clock.size[1]/2),(x_min,y_min)], fill=(255,255,255), width=5)\n\n\ny_hr = 95.5+(-(r_hr) * np.cos((Hr*np.pi/6)+(Min*np.pi/360)))\nx_hr = 95.5+((r_hr) * np.sin((Hr*np.pi/6)+(Min*np.pi/360)))\nclock_draw.line([(clock.size[0]/2),(clock.size[1]/2),(x_hr,y_hr)], fill=(255,255,255), width=5)\n    \nclock.show()",
      "metadata": {
        "trusted": true
      },
      "execution_count": 1,
      "outputs": [
        {
          "output_type": "display_data",
          "data": {
            "text/plain": "<PIL.Image.Image image mode=RGB size=200x200 at 0x303C1E8>",
            "image/png": "[encoded data removed]"
          },
          "metadata": {}
        }
      ]
    },
    {
      "cell_type": "markdown",
      "source": "---\n\nPackages used to create this Notebook:\n1. [numpy](http://numpy.org)\n2. [lib/datetime.py](https://docs.python.org/3/library/datetime.html)\n3. [Pillow](https://python-pillow.org/)\n\n---\n\n> \"I love deadlines. I like the whooshing sound they make as they fly by.”",
      "metadata": {}
    },
    {
      "cell_type": "code",
      "source": "",
      "metadata": {},
      "execution_count": null,
      "outputs": []
    },
    {
      "cell_type": "code",
      "source": "",
      "metadata": {},
      "execution_count": null,
      "outputs": []
    }
  ]
}